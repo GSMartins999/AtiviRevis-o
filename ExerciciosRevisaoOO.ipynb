{
  "cells": [
    {
      "cell_type": "markdown",
      "metadata": {
        "id": "IEklcZ-wSGYA"
      },
      "source": [
        "## Revisão sobre Introdução à Programação Orientada à Objetos"
      ]
    },
    {
      "cell_type": "markdown",
      "metadata": {
        "id": "ODp27tfCSYJe"
      },
      "source": [
        "### Exercício 1: Construtor e Destrutor\n",
        "Enunciado:\n",
        "\n",
        "Crie uma classe `Animal` com os atributos `nome` e `idade`. Implemente o construtor para inicializar esses atributos e o destrutor para imprimir uma mensagem indicando que o objeto foi destruído.\n",
        "\n"
      ]
    },
    {
      "cell_type": "code",
      "execution_count": 56,
      "metadata": {
        "id": "r8BEC4S3SFtY"
      },
      "outputs": [],
      "source": [
        "# Implemente a resolução aqui\n",
        "class Animal(): \n",
        "    def __init__ (self, nome, idade): \n",
        "        self.nome = nome\n",
        "        self.idade = idade \n",
        "        print(f\"Animal: {self.nome} de idade {self.idade}\")\n",
        "        \n",
        "    def __del__ (self):\n",
        "        print(f\"Animal: {self.nome} deletado com sucesso!!!\")\n",
        "\n",
        "\n",
        "\n"
      ]
    },
    {
      "cell_type": "code",
      "execution_count": 57,
      "metadata": {
        "id": "kWUyC1WBSgZU"
      },
      "outputs": [
        {
          "name": "stdout",
          "output_type": "stream",
          "text": [
            "Animal: Leão de idade 5\n",
            "Animal: Leão deletado com sucesso!!!\n"
          ]
        }
      ],
      "source": [
        "# Testando a classe Animal\n",
        "animal1 = Animal(\"Leão\", 5)\n",
        "# del animal1"
      ]
    },
    {
      "cell_type": "markdown",
      "metadata": {
        "id": "x9EZkUoJSi2G"
      },
      "source": [
        "### Exercício 2: Herança\n",
        "Enunciado:\n",
        "\n",
        "Crie uma classe `Cachorro` que herda da classe `Animal`. Adicione um atributo `raca` e um método `latir` que imprime \"Au au!\".\n",
        "\n",
        "obs.: Utilize a chamada `super()` para executar o construtor da classe principal\n"
      ]
    },
    {
      "cell_type": "code",
      "execution_count": 58,
      "metadata": {
        "id": "VFD-62jYS4Jr"
      },
      "outputs": [],
      "source": [
        "# Implemente a resolução aqui\n",
        "class Cachorro(Animal):\n",
        "    def __init__ (self,nome, idade, raca):\n",
        "        self.raca = raca\n",
        "        super().__init__(nome, idade)\n",
        "    def latir(self):\n",
        "        print(\"Au Au!\")"
      ]
    },
    {
      "cell_type": "code",
      "execution_count": 59,
      "metadata": {
        "id": "Q92ZExAiS4aU"
      },
      "outputs": [
        {
          "name": "stdout",
          "output_type": "stream",
          "text": [
            "Animal: Rex de idade 3\n",
            "Animal: Rex deletado com sucesso!!!\n",
            "Au Au!\n"
          ]
        }
      ],
      "source": [
        "# Testando a classe Cachorro\n",
        "cachorro1 = Cachorro(\"Rex\", 3, \"Labrador\")\n",
        "cachorro1.latir()"
      ]
    },
    {
      "cell_type": "markdown",
      "metadata": {
        "id": "k5cOMhw4TBTm"
      },
      "source": [
        "### Exercício 3: Polimorfismo\n",
        "Enunciado:\n",
        "\n",
        "Crie uma classe `Gato` que também herda da classe `Animal`. Adicione um método `miau` que imprime \"Miau!\". Utilize polimorfismo para chamar o método `falar` que imprime o som feito pelo animal.\n",
        "\n",
        "obs.: utilize a função `isinstance()` para escolher o nome do método a ser executado de acordo com a instancia do objeto da classe."
      ]
    },
    {
      "cell_type": "code",
      "execution_count": 60,
      "metadata": {
        "id": "d4NrJMYGTHae"
      },
      "outputs": [],
      "source": [
        "class Gato(Animal): \n",
        "    def __init__(self, nome, idade, peso):\n",
        "        super().__init__(nome,idade)\n",
        "        self.peso = peso\n",
        "        print(f\"Gato: {self.nome} de idade {self.idade}\")\n",
        "    def miau(self):\n",
        "        print(\"Miau\")\n",
        "def falar (objeto):\n",
        "    if isinstance(objeto, Cachorro):\n",
        "        objeto.latir()\n",
        "    elif isinstance(objeto, Gato):\n",
        "        objeto.miau()\n"
      ]
    },
    {
      "cell_type": "code",
      "execution_count": 61,
      "metadata": {
        "id": "Oq7hfSYKTJBF"
      },
      "outputs": [
        {
          "name": "stdout",
          "output_type": "stream",
          "text": [
            "Animal: Mimi de idade 2\n",
            "Gato: Mimi de idade 2\n",
            "Animal: Mimi deletado com sucesso!!!\n",
            "Miau\n",
            "Animal: Rex de idade 3\n",
            "Animal: Rex deletado com sucesso!!!\n",
            "Au Au!\n"
          ]
        }
      ],
      "source": [
        "# Testando a classe Gato e o polimorfismo\n",
        "gato1 = Gato(\"Mimi\", 2, 10)\n",
        "falar(gato1)\n",
        "\n",
        "cachorro1 = Cachorro(\"Rex\", 3, \"Labrador\")\n",
        "falar(cachorro1)"
      ]
    },
    {
      "cell_type": "markdown",
      "metadata": {
        "id": "zZ9ioiSTVHBr"
      },
      "source": [
        "### Exercício 4: Encapsulamento\n",
        "Enunciado:\n",
        "\n",
        "Crie uma classe `Aluno` com os atributos privados `__matricula`, `__nome` e `__nota`. Adicione métodos públicos `alterar_nota` para alterar a nota do aluno e `exibir_informacoes` para mostrar as informações do aluno.\n",
        "\n",
        "obs.: faça uma validação no método alterar_nota para permitir notas de `0` a `10` somente.\n",
        "\n",
        "Crie dois objetos dessa classe e execute todos os métodos de forma que seja possível testar a validação implementada."
      ]
    },
    {
      "cell_type": "code",
      "execution_count": 76,
      "metadata": {
        "id": "dXYsXajVWWoe"
      },
      "outputs": [
        {
          "name": "stdout",
          "output_type": "stream",
          "text": [
            "Aluno João | de matricula 123456789 | tem a nota: 10\n",
            "Aluno João | de matricula 123456789 | tem a nota: 8.3\n",
            "Aluno José | de matricula 987456123 | tem a nota: 5\n",
            "Aluno José | de matricula 987456123 | tem a nota: 1\n"
          ]
        }
      ],
      "source": [
        "class Aluno():\n",
        "    def __init__(self, matricula, nome, nota):\n",
        "        self.__matricula = matricula\n",
        "        self.__nome = nome\n",
        "        self.__nota = nota\n",
        "        print(f\"Aluno {self.__nome} | de matricula {self.__matricula} | tem a nota: {self.__nota}\") \n",
        "    def alterarNotas (self, novaNota):\n",
        "        if novaNota >= 0 and novaNota <= 10:\n",
        "            self.__nota = novaNota\n",
        "        else:\n",
        "            print(\"Não é possível alterar a nota, pois ela não está entre 0 e 10\")\n",
        "    def exibir_informacoes (self):\n",
        "        print(f\"Aluno {self.__nome} | de matricula {self.__matricula} | tem a nota: {self.__nota}\") \n",
        "\n",
        "Joao = Aluno(123456789, \"João\", 10)\n",
        "Joao.alterarNotas(8.3)\n",
        "Joao.exibir_informacoes()\n",
        "\n",
        "Jose = Aluno(987456123, \"José\", 5)\n",
        "Jose.alterarNotas(1)\n",
        "Jose.exibir_informacoes()"
      ]
    },
    {
      "cell_type": "markdown",
      "metadata": {
        "id": "1AY7XLmXXWL3"
      },
      "source": [
        "### Exercício 5: Construtor, Destrutor e Encapsulamento\n",
        "Enunciado:\n",
        "\n",
        "Crie uma classe `Curso` com os atributos privados `__nome`, `__duracao` e `__valor`. Implemente o construtor para inicializar esses atributos e o destrutor para imprimir uma mensagem indicando que o curso foi encerrado. Adicione métodos `get` e `set` para acessar e modificar o valor do curso.\n",
        "\n",
        "Crie pelo menos um objeto dessa classe e execute todos os métodos de forma que seja possível verificar o seu funcionamento.\n"
      ]
    },
    {
      "cell_type": "code",
      "execution_count": 81,
      "metadata": {
        "id": "_M5bIyYEX8Fg"
      },
      "outputs": [
        {
          "name": "stdout",
          "output_type": "stream",
          "text": [
            "Curso: BSI, Duracao: 30, Valor: 1500\n"
          ]
        },
        {
          "data": {
            "text/plain": [
              "'Curso: BSI, Duracao: 30, Valor: 8000'"
            ]
          },
          "execution_count": 81,
          "metadata": {},
          "output_type": "execute_result"
        }
      ],
      "source": [
        "class Curso():\n",
        "    def __init__(self, nome, duracao, valor):\n",
        "        self.__nome = nome\n",
        "        self.__duracao = duracao\n",
        "        self.__valor = valor\n",
        "    def set(self, novoValor):\n",
        "        self.__valor = novoValor\n",
        "        return(f\"Curso: {self.__nome}, Duracao: {self.__duracao}, Valor: {self.__valor}\")\n",
        "    def get(self):\n",
        "        print(f\"Curso: {self.__nome}, Duracao: {self.__duracao}, Valor: {self.__valor}\")\n",
        "    def __del__(self):\n",
        "        return(\"Curso deletado com sucesso!!!\")\n",
        "    \n",
        "Curso1 = Curso(\"BSI\", 30, 1500)\n",
        "Curso1.get()\n",
        "Curso1.set(8000)"
      ]
    }
  ],
  "metadata": {
    "colab": {
      "provenance": []
    },
    "kernelspec": {
      "display_name": "Python 3",
      "name": "python3"
    },
    "language_info": {
      "codemirror_mode": {
        "name": "ipython",
        "version": 3
      },
      "file_extension": ".py",
      "mimetype": "text/x-python",
      "name": "python",
      "nbconvert_exporter": "python",
      "pygments_lexer": "ipython3",
      "version": "3.10.12"
    }
  },
  "nbformat": 4,
  "nbformat_minor": 0
}
